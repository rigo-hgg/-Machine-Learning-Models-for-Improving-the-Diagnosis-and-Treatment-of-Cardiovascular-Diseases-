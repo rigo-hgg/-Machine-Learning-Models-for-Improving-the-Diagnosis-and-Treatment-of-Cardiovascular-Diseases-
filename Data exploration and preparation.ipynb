{
 "cells": [
  {
   "cell_type": "code",
   "execution_count": 1,
   "metadata": {},
   "outputs": [],
   "source": [
    "import pandas as pd\n",
    "import numpy as np"
   ]
  },
  {
   "cell_type": "code",
   "execution_count": 2,
   "metadata": {},
   "outputs": [],
   "source": [
    "data_filter = pd.read_excel('PLIC_v1-4_plaque_filtered.xlsx')"
   ]
  },
  {
   "cell_type": "code",
   "execution_count": 3,
   "metadata": {},
   "outputs": [
    {
     "data": {
      "text/plain": [
       "(947, 481)"
      ]
     },
     "execution_count": 3,
     "metadata": {},
     "output_type": "execute_result"
    }
   ],
   "source": [
    "data_filter.shape"
   ]
  },
  {
   "cell_type": "markdown",
   "metadata": {},
   "source": [
    "Delete columns containing either 60% or more than 60% NaN Values:"
   ]
  },
  {
   "cell_type": "code",
   "execution_count": 4,
   "metadata": {},
   "outputs": [],
   "source": [
    "perc = 60.0\n",
    "min_count =  int(((100-perc)/100)*data_filter.shape[0] + 1)\n",
    "df = data_filter.dropna( axis=1, \n",
    "                thresh=min_count)"
   ]
  },
  {
   "cell_type": "code",
   "execution_count": 5,
   "metadata": {},
   "outputs": [
    {
     "data": {
      "text/plain": [
       "(947, 420)"
      ]
     },
     "execution_count": 5,
     "metadata": {},
     "output_type": "execute_result"
    }
   ],
   "source": [
    "df.shape"
   ]
  },
  {
   "cell_type": "code",
   "execution_count": 14,
   "metadata": {},
   "outputs": [
    {
     "name": "stdout",
     "output_type": "stream",
     "text": [
      "<class 'pandas.core.frame.DataFrame'>\n",
      "RangeIndex: 947 entries, 0 to 946\n",
      "Columns: 421 entries, cod_pz to target_1\n",
      "dtypes: datetime64[ns](9), float64(162), int64(224), object(26)\n",
      "memory usage: 3.0+ MB\n"
     ]
    }
   ],
   "source": [
    "df.info()"
   ]
  },
  {
   "cell_type": "code",
   "execution_count": 15,
   "metadata": {},
   "outputs": [
    {
     "data": {
      "text/html": [
       "<div>\n",
       "<style scoped>\n",
       "    .dataframe tbody tr th:only-of-type {\n",
       "        vertical-align: middle;\n",
       "    }\n",
       "\n",
       "    .dataframe tbody tr th {\n",
       "        vertical-align: top;\n",
       "    }\n",
       "\n",
       "    .dataframe thead th {\n",
       "        text-align: right;\n",
       "    }\n",
       "</style>\n",
       "<table border=\"1\" class=\"dataframe\">\n",
       "  <thead>\n",
       "    <tr style=\"text-align: right;\">\n",
       "      <th></th>\n",
       "      <th>cod_pz</th>\n",
       "      <th>ana_fis:menarca_1</th>\n",
       "      <th>ana_fis:menarca_2</th>\n",
       "      <th>ana_fis:menarca_3</th>\n",
       "      <th>ana_fis:menarca_4</th>\n",
       "      <th>ana_fis:gravidanze_n_1</th>\n",
       "      <th>ana_fis:gravidanze_n_2</th>\n",
       "      <th>ana_fis:gravidanze_n_3</th>\n",
       "      <th>ana_fis:gravidanze_n_4</th>\n",
       "      <th>ana_fis:aborto_n_4</th>\n",
       "      <th>...</th>\n",
       "      <th>ana_pat:evento_tot</th>\n",
       "      <th>ana_pat:placca_evento_tot</th>\n",
       "      <th>auc:score</th>\n",
       "      <th>auc_tot:score</th>\n",
       "      <th>auc:waist</th>\n",
       "      <th>auc:whr</th>\n",
       "      <th>auc:bmi</th>\n",
       "      <th>auc:glucose</th>\n",
       "      <th>auc:ldl</th>\n",
       "      <th>target_1</th>\n",
       "    </tr>\n",
       "  </thead>\n",
       "  <tbody>\n",
       "    <tr>\n",
       "      <th>count</th>\n",
       "      <td>947.000000</td>\n",
       "      <td>947.000000</td>\n",
       "      <td>947.000000</td>\n",
       "      <td>947.000000</td>\n",
       "      <td>947.000000</td>\n",
       "      <td>947.000000</td>\n",
       "      <td>947.000000</td>\n",
       "      <td>947.000000</td>\n",
       "      <td>947.000000</td>\n",
       "      <td>947.000000</td>\n",
       "      <td>...</td>\n",
       "      <td>947.000000</td>\n",
       "      <td>947.000000</td>\n",
       "      <td>947.000000</td>\n",
       "      <td>947.000000</td>\n",
       "      <td>947.000000</td>\n",
       "      <td>947.000000</td>\n",
       "      <td>947.000000</td>\n",
       "      <td>947.000000</td>\n",
       "      <td>947.000000</td>\n",
       "      <td>947.000000</td>\n",
       "    </tr>\n",
       "    <tr>\n",
       "      <th>mean</th>\n",
       "      <td>1113.632524</td>\n",
       "      <td>7.913411</td>\n",
       "      <td>7.913411</td>\n",
       "      <td>7.913411</td>\n",
       "      <td>7.914467</td>\n",
       "      <td>1.030623</td>\n",
       "      <td>1.038015</td>\n",
       "      <td>1.057022</td>\n",
       "      <td>1.080253</td>\n",
       "      <td>0.100317</td>\n",
       "      <td>...</td>\n",
       "      <td>0.054910</td>\n",
       "      <td>0.427666</td>\n",
       "      <td>0.405141</td>\n",
       "      <td>2.363691</td>\n",
       "      <td>73.180272</td>\n",
       "      <td>0.436115</td>\n",
       "      <td>24.873138</td>\n",
       "      <td>86.756607</td>\n",
       "      <td>133.649913</td>\n",
       "      <td>4.136814</td>\n",
       "    </tr>\n",
       "    <tr>\n",
       "      <th>std</th>\n",
       "      <td>610.159093</td>\n",
       "      <td>6.197669</td>\n",
       "      <td>6.197669</td>\n",
       "      <td>6.197669</td>\n",
       "      <td>6.198451</td>\n",
       "      <td>1.182193</td>\n",
       "      <td>1.181531</td>\n",
       "      <td>1.179870</td>\n",
       "      <td>1.182099</td>\n",
       "      <td>0.433129</td>\n",
       "      <td>...</td>\n",
       "      <td>0.227925</td>\n",
       "      <td>0.495002</td>\n",
       "      <td>1.352574</td>\n",
       "      <td>2.579272</td>\n",
       "      <td>35.935901</td>\n",
       "      <td>0.415326</td>\n",
       "      <td>7.554899</td>\n",
       "      <td>22.089931</td>\n",
       "      <td>42.127777</td>\n",
       "      <td>4.287978</td>\n",
       "    </tr>\n",
       "    <tr>\n",
       "      <th>min</th>\n",
       "      <td>2.000000</td>\n",
       "      <td>0.000000</td>\n",
       "      <td>0.000000</td>\n",
       "      <td>0.000000</td>\n",
       "      <td>0.000000</td>\n",
       "      <td>0.000000</td>\n",
       "      <td>0.000000</td>\n",
       "      <td>0.000000</td>\n",
       "      <td>0.000000</td>\n",
       "      <td>0.000000</td>\n",
       "      <td>...</td>\n",
       "      <td>0.000000</td>\n",
       "      <td>0.000000</td>\n",
       "      <td>-12.753298</td>\n",
       "      <td>0.000000</td>\n",
       "      <td>0.000000</td>\n",
       "      <td>0.000000</td>\n",
       "      <td>0.000000</td>\n",
       "      <td>0.000000</td>\n",
       "      <td>0.000000</td>\n",
       "      <td>0.000835</td>\n",
       "    </tr>\n",
       "    <tr>\n",
       "      <th>25%</th>\n",
       "      <td>610.500000</td>\n",
       "      <td>0.000000</td>\n",
       "      <td>0.000000</td>\n",
       "      <td>0.000000</td>\n",
       "      <td>0.000000</td>\n",
       "      <td>0.000000</td>\n",
       "      <td>0.000000</td>\n",
       "      <td>0.000000</td>\n",
       "      <td>0.000000</td>\n",
       "      <td>0.000000</td>\n",
       "      <td>...</td>\n",
       "      <td>0.000000</td>\n",
       "      <td>0.000000</td>\n",
       "      <td>0.009349</td>\n",
       "      <td>0.511354</td>\n",
       "      <td>73.862449</td>\n",
       "      <td>0.000000</td>\n",
       "      <td>23.178018</td>\n",
       "      <td>84.290754</td>\n",
       "      <td>117.685296</td>\n",
       "      <td>1.252184</td>\n",
       "    </tr>\n",
       "    <tr>\n",
       "      <th>50%</th>\n",
       "      <td>1135.000000</td>\n",
       "      <td>11.000000</td>\n",
       "      <td>11.000000</td>\n",
       "      <td>11.000000</td>\n",
       "      <td>11.000000</td>\n",
       "      <td>1.000000</td>\n",
       "      <td>1.000000</td>\n",
       "      <td>1.000000</td>\n",
       "      <td>1.000000</td>\n",
       "      <td>0.000000</td>\n",
       "      <td>...</td>\n",
       "      <td>0.000000</td>\n",
       "      <td>0.000000</td>\n",
       "      <td>0.295843</td>\n",
       "      <td>1.537117</td>\n",
       "      <td>86.168947</td>\n",
       "      <td>0.747172</td>\n",
       "      <td>26.061640</td>\n",
       "      <td>90.206083</td>\n",
       "      <td>138.703478</td>\n",
       "      <td>2.964385</td>\n",
       "    </tr>\n",
       "    <tr>\n",
       "      <th>75%</th>\n",
       "      <td>1639.500000</td>\n",
       "      <td>13.000000</td>\n",
       "      <td>13.000000</td>\n",
       "      <td>13.000000</td>\n",
       "      <td>13.000000</td>\n",
       "      <td>2.000000</td>\n",
       "      <td>2.000000</td>\n",
       "      <td>2.000000</td>\n",
       "      <td>2.000000</td>\n",
       "      <td>0.000000</td>\n",
       "      <td>...</td>\n",
       "      <td>0.000000</td>\n",
       "      <td>1.000000</td>\n",
       "      <td>0.839176</td>\n",
       "      <td>3.436944</td>\n",
       "      <td>95.303329</td>\n",
       "      <td>0.827835</td>\n",
       "      <td>28.702522</td>\n",
       "      <td>96.507466</td>\n",
       "      <td>158.452494</td>\n",
       "      <td>5.541397</td>\n",
       "    </tr>\n",
       "    <tr>\n",
       "      <th>max</th>\n",
       "      <td>2141.000000</td>\n",
       "      <td>18.000000</td>\n",
       "      <td>18.000000</td>\n",
       "      <td>18.000000</td>\n",
       "      <td>18.000000</td>\n",
       "      <td>8.000000</td>\n",
       "      <td>8.000000</td>\n",
       "      <td>8.000000</td>\n",
       "      <td>8.000000</td>\n",
       "      <td>5.000000</td>\n",
       "      <td>...</td>\n",
       "      <td>1.000000</td>\n",
       "      <td>1.000000</td>\n",
       "      <td>9.395533</td>\n",
       "      <td>18.165808</td>\n",
       "      <td>133.757447</td>\n",
       "      <td>1.345491</td>\n",
       "      <td>45.543680</td>\n",
       "      <td>129.623909</td>\n",
       "      <td>371.211924</td>\n",
       "      <td>44.059524</td>\n",
       "    </tr>\n",
       "  </tbody>\n",
       "</table>\n",
       "<p>8 rows × 386 columns</p>\n",
       "</div>"
      ],
      "text/plain": [
       "            cod_pz  ana_fis:menarca_1  ana_fis:menarca_2  ana_fis:menarca_3  \\\n",
       "count   947.000000         947.000000         947.000000         947.000000   \n",
       "mean   1113.632524           7.913411           7.913411           7.913411   \n",
       "std     610.159093           6.197669           6.197669           6.197669   \n",
       "min       2.000000           0.000000           0.000000           0.000000   \n",
       "25%     610.500000           0.000000           0.000000           0.000000   \n",
       "50%    1135.000000          11.000000          11.000000          11.000000   \n",
       "75%    1639.500000          13.000000          13.000000          13.000000   \n",
       "max    2141.000000          18.000000          18.000000          18.000000   \n",
       "\n",
       "       ana_fis:menarca_4  ana_fis:gravidanze_n_1  ana_fis:gravidanze_n_2  \\\n",
       "count         947.000000              947.000000              947.000000   \n",
       "mean            7.914467                1.030623                1.038015   \n",
       "std             6.198451                1.182193                1.181531   \n",
       "min             0.000000                0.000000                0.000000   \n",
       "25%             0.000000                0.000000                0.000000   \n",
       "50%            11.000000                1.000000                1.000000   \n",
       "75%            13.000000                2.000000                2.000000   \n",
       "max            18.000000                8.000000                8.000000   \n",
       "\n",
       "       ana_fis:gravidanze_n_3  ana_fis:gravidanze_n_4  ana_fis:aborto_n_4  \\\n",
       "count              947.000000              947.000000          947.000000   \n",
       "mean                 1.057022                1.080253            0.100317   \n",
       "std                  1.179870                1.182099            0.433129   \n",
       "min                  0.000000                0.000000            0.000000   \n",
       "25%                  0.000000                0.000000            0.000000   \n",
       "50%                  1.000000                1.000000            0.000000   \n",
       "75%                  2.000000                2.000000            0.000000   \n",
       "max                  8.000000                8.000000            5.000000   \n",
       "\n",
       "       ...  ana_pat:evento_tot  ana_pat:placca_evento_tot   auc:score  \\\n",
       "count  ...          947.000000                 947.000000  947.000000   \n",
       "mean   ...            0.054910                   0.427666    0.405141   \n",
       "std    ...            0.227925                   0.495002    1.352574   \n",
       "min    ...            0.000000                   0.000000  -12.753298   \n",
       "25%    ...            0.000000                   0.000000    0.009349   \n",
       "50%    ...            0.000000                   0.000000    0.295843   \n",
       "75%    ...            0.000000                   1.000000    0.839176   \n",
       "max    ...            1.000000                   1.000000    9.395533   \n",
       "\n",
       "       auc_tot:score   auc:waist     auc:whr     auc:bmi  auc:glucose  \\\n",
       "count     947.000000  947.000000  947.000000  947.000000   947.000000   \n",
       "mean        2.363691   73.180272    0.436115   24.873138    86.756607   \n",
       "std         2.579272   35.935901    0.415326    7.554899    22.089931   \n",
       "min         0.000000    0.000000    0.000000    0.000000     0.000000   \n",
       "25%         0.511354   73.862449    0.000000   23.178018    84.290754   \n",
       "50%         1.537117   86.168947    0.747172   26.061640    90.206083   \n",
       "75%         3.436944   95.303329    0.827835   28.702522    96.507466   \n",
       "max        18.165808  133.757447    1.345491   45.543680   129.623909   \n",
       "\n",
       "          auc:ldl    target_1  \n",
       "count  947.000000  947.000000  \n",
       "mean   133.649913    4.136814  \n",
       "std     42.127777    4.287978  \n",
       "min      0.000000    0.000835  \n",
       "25%    117.685296    1.252184  \n",
       "50%    138.703478    2.964385  \n",
       "75%    158.452494    5.541397  \n",
       "max    371.211924   44.059524  \n",
       "\n",
       "[8 rows x 386 columns]"
      ]
     },
     "execution_count": 15,
     "metadata": {},
     "output_type": "execute_result"
    }
   ],
   "source": [
    "df.describe()"
   ]
  },
  {
   "cell_type": "markdown",
   "metadata": {},
   "source": [
    "Replace the remained Nan with the median: "
   ]
  },
  {
   "cell_type": "code",
   "execution_count": 6,
   "metadata": {},
   "outputs": [],
   "source": [
    "df=df.fillna(df.median())"
   ]
  },
  {
   "cell_type": "code",
   "execution_count": 30,
   "metadata": {},
   "outputs": [
    {
     "data": {
      "text/plain": [
       "cod_pz                                0\n",
       "visite_effettuate                     0\n",
       "visite_effettuate_standardizzate_a    0\n",
       "visit:data_visita_1                   0\n",
       "visit:data_visita_2                   0\n",
       "                                     ..\n",
       "auc:waist                             0\n",
       "auc:whr                               0\n",
       "auc:bmi                               0\n",
       "auc:glucose                           0\n",
       "auc:ldl                               0\n",
       "Length: 420, dtype: int64"
      ]
     },
     "execution_count": 30,
     "metadata": {},
     "output_type": "execute_result"
    }
   ],
   "source": [
    "df.isnull().sum() #ok"
   ]
  },
  {
   "cell_type": "markdown",
   "metadata": {},
   "source": [
    "Nans are still present in categorical variables. Check the variables we will use  in the nexts tasks ,only variables regarding the first visit are used as predictors\n"
   ]
  },
  {
   "cell_type": "code",
   "execution_count": 23,
   "metadata": {},
   "outputs": [
    {
     "name": "stdout",
     "output_type": "stream",
     "text": [
      "iperCT    444\n",
      "no        381\n",
      "mista      93\n",
      "iperTG     18\n",
      "Name: ana_pat:dislipidemia_self_1, dtype: int64\n",
      "True\n"
     ]
    }
   ],
   "source": [
    "print(df['ana_pat:dislipidemia_self_1'].value_counts())\n",
    "print(df['ana_pat:dislipidemia_self_1'].isnull().values.any())"
   ]
  },
  {
   "cell_type": "code",
   "execution_count": 24,
   "metadata": {},
   "outputs": [
    {
     "name": "stdout",
     "output_type": "stream",
     "text": [
      "superiori     367\n",
      "media         317\n",
      "elementare    193\n",
      "laurea         68\n",
      "NR              2\n",
      "Name: ana:istruzione_1, dtype: int64\n",
      "False\n"
     ]
    }
   ],
   "source": [
    "print(df['ana:istruzione_1'].value_counts())\n",
    "print(df['ana:istruzione_1'].isnull().values.any())"
   ]
  },
  {
   "cell_type": "code",
   "execution_count": 25,
   "metadata": {},
   "outputs": [
    {
     "name": "stdout",
     "output_type": "stream",
     "text": [
      "eutiroidismo      899\n",
      "ipotiroidismo      33\n",
      "NR                  8\n",
      "ipertiroidismo      7\n",
      "Name: ana_pat:tiroide_funzionalità_1, dtype: int64\n",
      "False\n"
     ]
    }
   ],
   "source": [
    "print(df['ana_pat:tiroide_funzionalità_1'].value_counts())\n",
    "print(df['ana_pat:tiroide_funzionalità_1'].isnull().values.any())"
   ]
  },
  {
   "cell_type": "markdown",
   "metadata": {},
   "source": [
    "Substitute Nans with \"NR\":"
   ]
  },
  {
   "cell_type": "code",
   "execution_count": 26,
   "metadata": {},
   "outputs": [],
   "source": [
    "df['ana_pat:dislipidemia_self_1'] =df['ana_pat:dislipidemia_self_1'] .fillna(\"NR\")"
   ]
  },
  {
   "cell_type": "code",
   "execution_count": 27,
   "metadata": {},
   "outputs": [],
   "source": [
    "df['ana:istruzione_1']= df['ana:istruzione_1'].replace({'NR': 'elementare'})"
   ]
  },
  {
   "cell_type": "code",
   "execution_count": 28,
   "metadata": {},
   "outputs": [
    {
     "name": "stdout",
     "output_type": "stream",
     "text": [
      "superiori     367\n",
      "media         317\n",
      "elementare    195\n",
      "laurea         68\n",
      "Name: ana:istruzione_1, dtype: int64\n"
     ]
    }
   ],
   "source": [
    "print(df['ana:istruzione_1'].value_counts())"
   ]
  },
  {
   "cell_type": "markdown",
   "metadata": {},
   "source": [
    "Save this cleaned dataset:"
   ]
  },
  {
   "cell_type": "code",
   "execution_count": 29,
   "metadata": {},
   "outputs": [],
   "source": [
    "df.to_excel(\"df.xlsx\")"
   ]
  },
  {
   "cell_type": "markdown",
   "metadata": {},
   "source": [
    "NEW FILTERING "
   ]
  },
  {
   "cell_type": "code",
   "execution_count": 3,
   "metadata": {},
   "outputs": [],
   "source": [
    "data_filter = pd.read_excel('PLIC_v1-4_plaque_filtered.xlsx')"
   ]
  },
  {
   "cell_type": "code",
   "execution_count": 4,
   "metadata": {},
   "outputs": [],
   "source": [
    "new_col = [col for col in data_filter.columns if 'ana_pat:metabolic_syndrome' in col]"
   ]
  },
  {
   "cell_type": "code",
   "execution_count": 5,
   "metadata": {},
   "outputs": [],
   "source": [
    "new_col.extend([col for col in data_filter.columns if 'ult_tsa' in col])"
   ]
  },
  {
   "cell_type": "code",
   "execution_count": 6,
   "metadata": {},
   "outputs": [],
   "source": [
    "new_col.extend([col for col in data_filter.columns if 'ana_fis' in col])"
   ]
  },
  {
   "cell_type": "code",
   "execution_count": 7,
   "metadata": {},
   "outputs": [],
   "source": [
    "new_col.extend([col for col in data_filter.columns if 'ana_phar' in col])"
   ]
  },
  {
   "cell_type": "code",
   "execution_count": 8,
   "metadata": {},
   "outputs": [],
   "source": [
    "new_col.extend([col for col in data_filter.columns if 'esa_obi' in col])"
   ]
  },
  {
   "cell_type": "code",
   "execution_count": 9,
   "metadata": {},
   "outputs": [],
   "source": [
    "new_col.extend([col for col in data_filter.columns if 'lab' in col])"
   ]
  },
  {
   "cell_type": "code",
   "execution_count": 10,
   "metadata": {},
   "outputs": [],
   "source": [
    "new_col.extend([col for col in data_filter.columns if 'ana:istruzione' in col])"
   ]
  },
  {
   "cell_type": "code",
   "execution_count": 11,
   "metadata": {},
   "outputs": [],
   "source": [
    "new_col.extend([col for col in data_filter.columns if 'ana:ana_età' in col])"
   ]
  },
  {
   "cell_type": "code",
   "execution_count": 12,
   "metadata": {},
   "outputs": [],
   "source": [
    "new_col.extend(list(data_filter.columns[66:184])) #from \"ana_pat:arteriopatia_aortica_remota_1_a\" to \"ana_pat:BPCO_4\""
   ]
  },
  {
   "cell_type": "code",
   "execution_count": 13,
   "metadata": {},
   "outputs": [
    {
     "data": {
      "text/plain": [
       "338"
      ]
     },
     "execution_count": 13,
     "metadata": {},
     "output_type": "execute_result"
    }
   ],
   "source": [
    "len(new_col)"
   ]
  },
  {
   "cell_type": "code",
   "execution_count": 14,
   "metadata": {},
   "outputs": [],
   "source": [
    "new_col = [col for col in new_col if '_1' in col] #filter on visit 1 "
   ]
  },
  {
   "cell_type": "code",
   "execution_count": 15,
   "metadata": {},
   "outputs": [
    {
     "data": {
      "text/plain": [
       "71"
      ]
     },
     "execution_count": 15,
     "metadata": {},
     "output_type": "execute_result"
    }
   ],
   "source": [
    "len(new_col) "
   ]
  },
  {
   "cell_type": "code",
   "execution_count": 16,
   "metadata": {},
   "outputs": [],
   "source": [
    "new_col.append(\"ult_tsa:placca_tot\")"
   ]
  },
  {
   "cell_type": "code",
   "execution_count": 17,
   "metadata": {},
   "outputs": [],
   "source": [
    "new_col.append(\"ana:sesso_recod\")"
   ]
  },
  {
   "cell_type": "code",
   "execution_count": 39,
   "metadata": {},
   "outputs": [
    {
     "data": {
      "text/plain": [
       "73"
      ]
     },
     "execution_count": 39,
     "metadata": {},
     "output_type": "execute_result"
    }
   ],
   "source": [
    "len(new_col)"
   ]
  },
  {
   "cell_type": "code",
   "execution_count": 18,
   "metadata": {},
   "outputs": [],
   "source": [
    "new_col.extend([col for col in data_filter.columns if 'score_recod' in col])"
   ]
  },
  {
   "cell_type": "code",
   "execution_count": 19,
   "metadata": {},
   "outputs": [],
   "source": [
    "new_col.append('ana_pat:evento_tot')\n"
   ]
  },
  {
   "cell_type": "code",
   "execution_count": 20,
   "metadata": {},
   "outputs": [
    {
     "data": {
      "text/plain": [
       "78"
      ]
     },
     "execution_count": 20,
     "metadata": {},
     "output_type": "execute_result"
    }
   ],
   "source": [
    "len(new_col)"
   ]
  },
  {
   "cell_type": "code",
   "execution_count": 21,
   "metadata": {},
   "outputs": [],
   "source": [
    "data_newfilter=data_filter[new_col] #create the new subset "
   ]
  },
  {
   "cell_type": "code",
   "execution_count": 43,
   "metadata": {},
   "outputs": [
    {
     "name": "stdout",
     "output_type": "stream",
     "text": [
      "<class 'pandas.core.frame.DataFrame'>\n",
      "RangeIndex: 947 entries, 0 to 946\n",
      "Data columns (total 77 columns):\n",
      "ana_pat:metabolic_syndrome_guidelines_1        916 non-null float64\n",
      "ana_pat:metabolic_syndrome_non_guidelines_1    916 non-null float64\n",
      "ult_tsa:U_TSA_data_1                           941 non-null datetime64[ns]\n",
      "ult_tsa:IMT_CC_max_sx_1                        936 non-null float64\n",
      "ult_tsa:IMT_CC_max_dx_1                        936 non-null float64\n",
      "ult_tsa:IMT_CC_medio_round_sx_1                936 non-null float64\n",
      "ult_tsa:IMT_CC_medio_round_dx_1                937 non-null float64\n",
      "ult_tsa:IMT_CC_medio_round_mean_1              942 non-null float64\n",
      "ult_tsa:placca_dx_recod_1                      947 non-null int64\n",
      "ult_tsa:placca_sx_recod_1                      947 non-null int64\n",
      "ult_tsa:placca_1                               947 non-null int64\n",
      "ana_fis:menarca_1                              596 non-null float64\n",
      "ana_fis:gravidanze_n_1                         568 non-null float64\n",
      "ana_fis:menopausa_1                            397 non-null float64\n",
      "ana_fis:menopausa_indotta_1                    377 non-null float64\n",
      "ana_fis:fumo_recod_1                           947 non-null int64\n",
      "ana_fis:attività_fisica_recod_1                946 non-null float64\n",
      "ana_fis:alcol_recod_1                          947 non-null int64\n",
      "ana_phar:ipotrigliceridemizzanti_1             947 non-null int64\n",
      "ana_phar:terapia_farmacologica_1               947 non-null int64\n",
      "ana_phar:antidislipidemici_1                   947 non-null int64\n",
      "ana_phar:antipertensivi_1                      947 non-null int64\n",
      "ana_phar:antidiabetici_1                       947 non-null int64\n",
      "ana_phar:antiaggreganti_1                      947 non-null int64\n",
      "esa_obi:peso_1                                 944 non-null float64\n",
      "esa_obi:altezza_1                              945 non-null float64\n",
      "esa_obi:BMI_calc_1                             944 non-null float64\n",
      "esa_obi:vita_1                                 824 non-null float64\n",
      "esa_obi:fianchi_1                              528 non-null float64\n",
      "esa_obi:vita_fianchi_calc_1                    528 non-null float64\n",
      "esa_obi:pas_1                                  947 non-null int64\n",
      "esa_obi:pad_1                                  947 non-null int64\n",
      "esa_obi:frequenza_cardiaca_1                   874 non-null float64\n",
      "lab:CT_1                                       947 non-null int64\n",
      "lab:HDL_1                                      947 non-null int64\n",
      "lab:TG_1                                       947 non-null int64\n",
      "lab:LDL_calc_1                                 947 non-null float64\n",
      "lab:apoA1_1                                    690 non-null float64\n",
      "lab:apoB_1                                     694 non-null float64\n",
      "lab:glucosio_1                                 947 non-null int64\n",
      "lab:non_HDL_c_1                                947 non-null int64\n",
      "ana:istruzione_1                               947 non-null object\n",
      "ana_pat:arteriopatia_aortica_remota_1_a        947 non-null int64\n",
      "ana_pat:fibrillazione_atriale_1                947 non-null int64\n",
      "ana_pat:aritmia_1                              947 non-null int64\n",
      "ana_pat:IVS_1                                  947 non-null int64\n",
      "ana_pat:scompenso_remota_1_a                   947 non-null int64\n",
      "ana_pat:trombosi_venosa_1                      947 non-null int64\n",
      "ana_pat:emorragia_cerebrale_1                  947 non-null int64\n",
      "ana_pat:ipertensione_self_1                    947 non-null int64\n",
      "ana_pat:ipertensione_self_data_1               88 non-null float64\n",
      "ana_pat:obesità_self_1                         947 non-null int64\n",
      "ana_pat:obesità_self_data_1                    3 non-null float64\n",
      "ana_pat:dislipidemia_self_1                    936 non-null object\n",
      "ana_pat:dislipidemie_self_data_1               121 non-null float64\n",
      "ana_pat:xantomatosi_1                          947 non-null int64\n",
      "ana_pat:nefropatie_NS_1                        947 non-null int64\n",
      "ana_pat:nefropatie_tipo_1                      30 non-null object\n",
      "ana_pat:nefropatie_data_1                      6 non-null float64\n",
      "ana_pat:tiroide_patologie_text_1               22 non-null object\n",
      "ana_pat:tiroide_funzionalità_1                 947 non-null object\n",
      "ana_pat:tiroide_patologie_data_1               10 non-null float64\n",
      "ana_pat:epatopatie_NS_1                        947 non-null int64\n",
      "ana_pat:epatopatie_tipo_1                      58 non-null object\n",
      "ana_pat:epatopatie_data_1                      3 non-null float64\n",
      "ana_pat:steatosi_1                             947 non-null int64\n",
      "ana_pat:colecistectomia_1                      947 non-null int64\n",
      "ana_pat:colecistectomia_data_1                 10 non-null float64\n",
      "ana_pat:pancreatopatia_1                       947 non-null int64\n",
      "ana_pat:BPCO_1                                 947 non-null int64\n",
      "ana_pat:BPCO_data_1                            0 non-null float64\n",
      "ult_tsa:placca_tot                             947 non-null int64\n",
      "ana:sesso_recod                                947 non-null int64\n",
      "score_recod_1                                  947 non-null float64\n",
      "score_recod_2                                  947 non-null float64\n",
      "score_recod_3                                  947 non-null float64\n",
      "score_recod_4                                  947 non-null float64\n",
      "dtypes: datetime64[ns](1), float64(34), int64(36), object(6)\n",
      "memory usage: 569.8+ KB\n"
     ]
    }
   ],
   "source": [
    "data_newfilter.info()"
   ]
  },
  {
   "cell_type": "code",
   "execution_count": 22,
   "metadata": {},
   "outputs": [
    {
     "name": "stderr",
     "output_type": "stream",
     "text": [
      "C:\\Users\\tamar\\Anaconda3\\lib\\site-packages\\ipykernel_launcher.py:1: SettingWithCopyWarning: \n",
      "A value is trying to be set on a copy of a slice from a DataFrame.\n",
      "Try using .loc[row_indexer,col_indexer] = value instead\n",
      "\n",
      "See the caveats in the documentation: http://pandas.pydata.org/pandas-docs/stable/user_guide/indexing.html#returning-a-view-versus-a-copy\n",
      "  \"\"\"Entry point for launching an IPython kernel.\n"
     ]
    }
   ],
   "source": [
    "data_newfilter['ana:istruzione_1'] = data_newfilter['ana:istruzione_1'].fillna(\"NR\")"
   ]
  },
  {
   "cell_type": "code",
   "execution_count": 23,
   "metadata": {},
   "outputs": [],
   "source": [
    "data_newfilter = data_newfilter[data_newfilter['ult_tsa:placca_dx_recod_1'].notna()]"
   ]
  },
  {
   "cell_type": "code",
   "execution_count": 24,
   "metadata": {},
   "outputs": [],
   "source": [
    "data_newfilter = data_newfilter[data_newfilter['ult_tsa:placca_sx_recod_1'].notna()]"
   ]
  },
  {
   "cell_type": "code",
   "execution_count": 25,
   "metadata": {},
   "outputs": [],
   "source": [
    "data_newfilter = data_newfilter[data_newfilter['ult_tsa:IMT_CC_medio_round_sx_1'].notna()]"
   ]
  },
  {
   "cell_type": "code",
   "execution_count": 26,
   "metadata": {},
   "outputs": [],
   "source": [
    "data_newfilter = data_newfilter[data_newfilter['ult_tsa:IMT_CC_medio_round_dx_1'].notna()]"
   ]
  },
  {
   "cell_type": "code",
   "execution_count": 27,
   "metadata": {},
   "outputs": [],
   "source": [
    "data_newfilter = data_newfilter[data_newfilter['ult_tsa:IMT_CC_medio_round_mean_1'].notna()]"
   ]
  },
  {
   "cell_type": "code",
   "execution_count": 28,
   "metadata": {},
   "outputs": [],
   "source": [
    "perc = 80.0\n",
    "min_count =  int(((100-perc)/100)*data_filter.shape[0] + 1)\n",
    "data_newfilter = data_newfilter.dropna( axis=1, \n",
    "                thresh=min_count)"
   ]
  },
  {
   "cell_type": "code",
   "execution_count": 2,
   "metadata": {},
   "outputs": [],
   "source": [
    "import pandas as pd\n",
    "data_newfilter=pd.read_excel('data_newfilter.xlsx')"
   ]
  },
  {
   "cell_type": "code",
   "execution_count": 12,
   "metadata": {},
   "outputs": [
    {
     "data": {
      "text/plain": [
       "array([0], dtype=int64)"
      ]
     },
     "execution_count": 12,
     "metadata": {},
     "output_type": "execute_result"
    }
   ],
   "source": [
    "data_newfilter['ult_tsa:placca_dx_recod_1'].unique()"
   ]
  },
  {
   "cell_type": "code",
   "execution_count": 34,
   "metadata": {},
   "outputs": [
    {
     "name": "stdout",
     "output_type": "stream",
     "text": [
      "<class 'pandas.core.frame.DataFrame'>\n",
      "Int64Index: 931 entries, 0 to 946\n",
      "Data columns (total 65 columns):\n",
      "ana_pat:metabolic_syndrome_guidelines_1        931 non-null float64\n",
      "ana_pat:metabolic_syndrome_non_guidelines_1    931 non-null float64\n",
      "ult_tsa:IMT_CC_max_sx_1                        931 non-null float64\n",
      "ult_tsa:IMT_CC_max_dx_1                        931 non-null float64\n",
      "ult_tsa:IMT_CC_medio_round_sx_1                931 non-null float64\n",
      "ult_tsa:IMT_CC_medio_round_dx_1                931 non-null float64\n",
      "ult_tsa:IMT_CC_medio_round_mean_1              931 non-null float64\n",
      "ult_tsa:placca_dx_recod_1                      931 non-null int64\n",
      "ult_tsa:placca_sx_recod_1                      931 non-null int64\n",
      "ult_tsa:placca_1                               931 non-null int64\n",
      "ana_fis:menarca_1                              931 non-null float64\n",
      "ana_fis:gravidanze_n_1                         931 non-null float64\n",
      "ana_fis:menopausa_1                            931 non-null float64\n",
      "ana_fis:menopausa_indotta_1                    931 non-null float64\n",
      "ana_fis:fumo_recod_1                           931 non-null int64\n",
      "ana_fis:attività_fisica_recod_1                931 non-null float64\n",
      "ana_fis:alcol_recod_1                          931 non-null int64\n",
      "ana_phar:ipotrigliceridemizzanti_1             931 non-null int64\n",
      "ana_phar:terapia_farmacologica_1               931 non-null int64\n",
      "ana_phar:antidislipidemici_1                   931 non-null int64\n",
      "ana_phar:antipertensivi_1                      931 non-null int64\n",
      "ana_phar:antiaggreganti_1                      931 non-null int64\n",
      "esa_obi:peso_1                                 931 non-null float64\n",
      "esa_obi:altezza_1                              931 non-null float64\n",
      "esa_obi:BMI_calc_1                             931 non-null float64\n",
      "esa_obi:vita_1                                 931 non-null float64\n",
      "esa_obi:fianchi_1                              931 non-null float64\n",
      "esa_obi:vita_fianchi_calc_1                    931 non-null float64\n",
      "esa_obi:pas_1                                  931 non-null int64\n",
      "esa_obi:pad_1                                  931 non-null int64\n",
      "esa_obi:frequenza_cardiaca_1                   931 non-null float64\n",
      "lab:CT_1                                       931 non-null int64\n",
      "lab:HDL_1                                      931 non-null int64\n",
      "lab:TG_1                                       931 non-null int64\n",
      "lab:LDL_calc_1                                 931 non-null float64\n",
      "lab:apoA1_1                                    931 non-null float64\n",
      "lab:apoB_1                                     931 non-null float64\n",
      "lab:glucosio_1                                 931 non-null int64\n",
      "lab:non_HDL_c_1                                931 non-null int64\n",
      "ana:istruzione_1                               931 non-null object\n",
      "ana_pat:arteriopatia_aortica_remota_1_a        931 non-null int64\n",
      "ana_pat:fibrillazione_atriale_1                931 non-null int64\n",
      "ana_pat:aritmia_1                              931 non-null int64\n",
      "ana_pat:IVS_1                                  931 non-null int64\n",
      "ana_pat:scompenso_remota_1_a                   931 non-null int64\n",
      "ana_pat:trombosi_venosa_1                      931 non-null int64\n",
      "ana_pat:emorragia_cerebrale_1                  931 non-null int64\n",
      "ana_pat:ipertensione_self_1                    931 non-null int64\n",
      "ana_pat:obesità_self_1                         931 non-null int64\n",
      "ana_pat:dislipidemia_self_1                    920 non-null object\n",
      "ana_pat:xantomatosi_1                          931 non-null int64\n",
      "ana_pat:nefropatie_NS_1                        931 non-null int64\n",
      "ana_pat:tiroide_funzionalità_1                 931 non-null object\n",
      "ana_pat:epatopatie_NS_1                        931 non-null int64\n",
      "ana_pat:steatosi_1                             931 non-null int64\n",
      "ana_pat:colecistectomia_1                      931 non-null int64\n",
      "ana_pat:pancreatopatia_1                       931 non-null int64\n",
      "ana_pat:BPCO_1                                 931 non-null int64\n",
      "ult_tsa:placca_tot                             931 non-null int64\n",
      "ana:sesso_recod                                931 non-null int64\n",
      "score_recod_1                                  931 non-null float64\n",
      "score_recod_2                                  931 non-null float64\n",
      "score_recod_3                                  931 non-null float64\n",
      "score_recod_4                                  931 non-null float64\n",
      "ana_pat:evento_tot                             931 non-null int64\n",
      "dtypes: float64(26), int64(36), object(3)\n",
      "memory usage: 480.0+ KB\n"
     ]
    }
   ],
   "source": [
    "data_newfilter.info()"
   ]
  },
  {
   "cell_type": "code",
   "execution_count": 30,
   "metadata": {},
   "outputs": [],
   "source": [
    "data_newfilter = data_newfilter.drop([\"ult_tsa:U_TSA_data_1\", \"ana_phar:antidiabetici_1\"], axis=1) "
   ]
  },
  {
   "cell_type": "code",
   "execution_count": 31,
   "metadata": {},
   "outputs": [],
   "source": [
    "data_newfilter=data_newfilter.fillna(data_newfilter.median())"
   ]
  },
  {
   "cell_type": "code",
   "execution_count": 32,
   "metadata": {},
   "outputs": [
    {
     "data": {
      "text/plain": [
       "ana_pat:metabolic_syndrome_guidelines_1        0\n",
       "ana_pat:metabolic_syndrome_non_guidelines_1    0\n",
       "ult_tsa:IMT_CC_max_sx_1                        0\n",
       "ult_tsa:IMT_CC_max_dx_1                        0\n",
       "ult_tsa:IMT_CC_medio_round_sx_1                0\n",
       "                                              ..\n",
       "score_recod_1                                  0\n",
       "score_recod_2                                  0\n",
       "score_recod_3                                  0\n",
       "score_recod_4                                  0\n",
       "ana_pat:evento_tot                             0\n",
       "Length: 65, dtype: int64"
      ]
     },
     "execution_count": 32,
     "metadata": {},
     "output_type": "execute_result"
    }
   ],
   "source": [
    "data_newfilter.isnull().sum() #ok"
   ]
  },
  {
   "cell_type": "code",
   "execution_count": 35,
   "metadata": {},
   "outputs": [],
   "source": [
    "data_newfilter.to_excel(\"data_newfilter.xlsx\") #save this new filtered dataset "
   ]
  }
 ],
 "metadata": {
  "kernelspec": {
   "display_name": "Python 3",
   "language": "python",
   "name": "python3"
  },
  "language_info": {
   "codemirror_mode": {
    "name": "ipython",
    "version": 3
   },
   "file_extension": ".py",
   "mimetype": "text/x-python",
   "name": "python",
   "nbconvert_exporter": "python",
   "pygments_lexer": "ipython3",
   "version": "3.7.3"
  },
  "toc": {
   "base_numbering": 1,
   "nav_menu": {},
   "number_sections": true,
   "sideBar": true,
   "skip_h1_title": false,
   "title_cell": "Table of Contents",
   "title_sidebar": "Contents",
   "toc_cell": false,
   "toc_position": {},
   "toc_section_display": true,
   "toc_window_display": false
  }
 },
 "nbformat": 4,
 "nbformat_minor": 5
}
